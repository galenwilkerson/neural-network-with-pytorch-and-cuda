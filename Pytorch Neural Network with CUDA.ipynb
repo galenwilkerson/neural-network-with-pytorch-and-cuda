{
 "cells": [
  {
   "cell_type": "markdown",
   "id": "21dc7543",
   "metadata": {},
   "source": [
    "# Pytorch Neural Network with CUDA\n",
    "\n",
    "Implementation of a simple artificial neural network using Pytorch and cuda (if available)\n",
    "\n",
    "\n",
    "Based on:\n",
    "\n",
    "https://www.youtube.com/watch?v=Jy4wM2X21u0"
   ]
  },
  {
   "cell_type": "code",
   "execution_count": 2,
   "id": "a76f3ca5",
   "metadata": {},
   "outputs": [],
   "source": [
    "import torch\n",
    "import torch.nn as nn\n",
    "import torch.optim as optim\n",
    "import torch.nn.functional as F\n",
    "from torch.utils.data import DataLoader\n",
    "import torchvision.datasets as datasets\n",
    "import torchvision.transforms as transforms"
   ]
  },
  {
   "cell_type": "code",
   "execution_count": 5,
   "id": "7ff3582f",
   "metadata": {},
   "outputs": [],
   "source": [
    "class NN(nn.Module):\n",
    "    def __init__(self, input_size, num_classes): #28 x 28 = 784\n",
    "        super(NN, self).__init__()\n",
    "        self.fc1 = nn.Linear(input_size, 50)\n",
    "        self.fc2 = nn.Linear(50, num_classes)\n",
    "        \n",
    "    def forward(self, x):\n",
    "        x = F.relu(self.fc1(x))\n",
    "        x = self.fc2(x)\n",
    "        return x\n",
    "    "
   ]
  },
  {
   "cell_type": "code",
   "execution_count": 9,
   "id": "8c22754d",
   "metadata": {},
   "outputs": [],
   "source": [
    "# model = NN(784, 10)\n",
    "# x = torch.randn(64, 784)  # 64 = minibatch size\n",
    "# print(model(x).shape)"
   ]
  },
  {
   "cell_type": "code",
   "execution_count": 12,
   "id": "57dc93fc",
   "metadata": {},
   "outputs": [
    {
     "name": "stdout",
     "output_type": "stream",
     "text": [
      "Checking accuracy on training data.\n",
      "Got 55697 / 60000 with accuracy 92.83\n",
      "Checking accuracy on training data.\n",
      "Got 55697 / 60000 with accuracy 92.83\n"
     ]
    }
   ],
   "source": [
    "# set device\n",
    "device = torch.device('cuda' if torch.cuda.is_available() else 'cpu')\n",
    "\n",
    "# hyperparameters\n",
    "input_size = 784\n",
    "num_classes = 10\n",
    "learning_rate = 0.001\n",
    "batch_size  = 64\n",
    "num_epochs = 1\n",
    "\n",
    "# load data\n",
    "train_dataset = datasets.MNIST(root = '/home/galen/dataset/', train = True, transform=transforms.ToTensor(), download=True)\n",
    "train_loader = DataLoader(dataset = train_dataset, batch_size=batch_size, shuffle=True)\n",
    "\n",
    "test_dataset = datasets.MNIST(root = '/home/galen/dataset/', train = False, transform=transforms.ToTensor(), download=True)\n",
    "test_loader = DataLoader(dataset = train_dataset, batch_size=batch_size, shuffle=True)\n",
    "\n",
    "#initialize network\n",
    "model = NN(input_size = input_size, num_classes=num_classes).to(device)\n",
    "\n",
    "# loss and optimizer\n",
    "criterion = nn.CrossEntropyLoss()\n",
    "optimizer = optim.Adam(model.parameters(), lr = learning_rate)\n",
    "\n",
    "# train network\n",
    "for epoch in range(num_epochs):\n",
    "    for batch_idx, (data, targets) in enumerate(train_loader): # keeps track of batch index\n",
    "        \n",
    "        # get data to cuda if possible\n",
    "        data = data.to(device = device) \n",
    "        targets = targets.to(device = device)\n",
    "        \n",
    "#         print(data.shape)\n",
    "        data = data.reshape(data.shape[0], -1) # flatten\n",
    "        \n",
    "        #forward\n",
    "        scores = model(data)\n",
    "        loss = criterion(scores, targets)\n",
    "        \n",
    "        #backward\n",
    "        optimizer.zero_grad()  # don't store backprop calculations\n",
    "        loss.backward()\n",
    "        \n",
    "        # gradient descent or adam step\n",
    "        optimizer.step()\n",
    "        \n",
    "# check accuracy on training and test to se how good our model is\n",
    "\n",
    "def check_accuracy(loader, model):\n",
    "    if loader.dataset.train:\n",
    "        print('Checking accuracy on training data.')\n",
    "    else:\n",
    "        print('Checking accuracy on test data.')\n",
    "    \n",
    "    num_correct = 0\n",
    "    num_samples = 0\n",
    "    model.eval()\n",
    "    \n",
    "    with torch.no_grad(): # not necessary to compute gradient\n",
    "        for x,y, in loader:\n",
    "            x = x.to(device = device)\n",
    "            y = y.to(device = device)\n",
    "            x = x.reshape(x.shape[0], -1)\n",
    "            \n",
    "            scores = model(x)\n",
    "            # 64 x 10\n",
    "            \n",
    "            _, predictions = scores.max(1)\n",
    "            num_correct += (predictions == y).sum()\n",
    "            num_samples += predictions.size(0)\n",
    "        \n",
    "        print(f'Got {num_correct} / {num_samples} with accuracy {float(num_correct/num_samples)*100:.2f}')\n",
    "        \n",
    "    model.train()\n",
    "#     return acc\n",
    "\n",
    "check_accuracy(train_loader, model)\n",
    "check_accuracy(test_loader, model)\n",
    "        "
   ]
  },
  {
   "cell_type": "code",
   "execution_count": null,
   "id": "463e20ad",
   "metadata": {},
   "outputs": [],
   "source": []
  }
 ],
 "metadata": {
  "kernelspec": {
   "display_name": "Python 3 (ipykernel)",
   "language": "python",
   "name": "python3"
  },
  "language_info": {
   "codemirror_mode": {
    "name": "ipython",
    "version": 3
   },
   "file_extension": ".py",
   "mimetype": "text/x-python",
   "name": "python",
   "nbconvert_exporter": "python",
   "pygments_lexer": "ipython3",
   "version": "3.11.5"
  }
 },
 "nbformat": 4,
 "nbformat_minor": 5
}
